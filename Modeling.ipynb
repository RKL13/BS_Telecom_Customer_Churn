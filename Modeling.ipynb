{
 "cells": [
  {
   "cell_type": "code",
   "execution_count": 1,
   "id": "885179af",
   "metadata": {},
   "outputs": [],
   "source": [
    "from IPython.core.interactiveshell import InteractiveShell\n",
    "from IPython.display import display\n",
    "\n",
    "import pandas as pd\n",
    "import numpy as np\n",
    "import seaborn as sns\n",
    "import matplotlib.pyplot as plt\n",
    "\n",
    "from sklearn.preprocessing import LabelEncoder\n",
    "from sklearn.preprocessing import OneHotEncoder\n",
    "from sklearn.compose import ColumnTransformer\n",
    "\n",
    "from sklearn.dummy import DummyClassifier\n",
    "\n",
    "from sklearn.model_selection import GridSearchCV"
   ]
  },
  {
   "cell_type": "code",
   "execution_count": 2,
   "id": "7e1a8256",
   "metadata": {},
   "outputs": [],
   "source": [
    "# Sets the Ipython options\n",
    "\n",
    "InteractiveShell.ast_node_interactivity = \"all\""
   ]
  },
  {
   "cell_type": "markdown",
   "id": "32fdd899",
   "metadata": {},
   "source": [
    "<h6>Design"
   ]
  },
  {
   "cell_type": "code",
   "execution_count": 3,
   "id": "fbd0dd2f",
   "metadata": {},
   "outputs": [
    {
     "data": {
      "text/html": [
       "<svg  width=\"440\" height=\"55\"><rect x=\"0\" y=\"0\" width=\"55\" height=\"55\" style=\"fill:#7fc97f;stroke-width:2;stroke:rgb(255,255,255)\"/><rect x=\"55\" y=\"0\" width=\"55\" height=\"55\" style=\"fill:#beaed4;stroke-width:2;stroke:rgb(255,255,255)\"/><rect x=\"110\" y=\"0\" width=\"55\" height=\"55\" style=\"fill:#fdc086;stroke-width:2;stroke:rgb(255,255,255)\"/><rect x=\"165\" y=\"0\" width=\"55\" height=\"55\" style=\"fill:#ffff99;stroke-width:2;stroke:rgb(255,255,255)\"/><rect x=\"220\" y=\"0\" width=\"55\" height=\"55\" style=\"fill:#386cb0;stroke-width:2;stroke:rgb(255,255,255)\"/><rect x=\"275\" y=\"0\" width=\"55\" height=\"55\" style=\"fill:#f0027f;stroke-width:2;stroke:rgb(255,255,255)\"/><rect x=\"330\" y=\"0\" width=\"55\" height=\"55\" style=\"fill:#bf5b17;stroke-width:2;stroke:rgb(255,255,255)\"/><rect x=\"385\" y=\"0\" width=\"55\" height=\"55\" style=\"fill:#666666;stroke-width:2;stroke:rgb(255,255,255)\"/></svg>"
      ],
      "text/plain": [
       "[(0.4980392156862745, 0.788235294117647, 0.4980392156862745),\n",
       " (0.7450980392156863, 0.6823529411764706, 0.8313725490196079),\n",
       " (0.9921568627450981, 0.7529411764705882, 0.5254901960784314),\n",
       " (1.0, 1.0, 0.6),\n",
       " (0.2196078431372549, 0.4235294117647059, 0.6901960784313725),\n",
       " (0.9411764705882353, 0.00784313725490196, 0.4980392156862745),\n",
       " (0.7490196078431373, 0.3568627450980392, 0.09019607843137253),\n",
       " (0.4, 0.4, 0.4)]"
      ]
     },
     "execution_count": 3,
     "metadata": {},
     "output_type": "execute_result"
    }
   ],
   "source": [
    "# Design\n",
    "\n",
    "# Colors\n",
    "\n",
    "sns.color_palette(\"Accent\")\n",
    "\n",
    "# Sizes\n",
    "\n",
    "title_size = 50\n",
    "tick_size = 30\n",
    "text_size = 30"
   ]
  },
  {
   "cell_type": "markdown",
   "id": "178166ee",
   "metadata": {},
   "source": [
    "<h6>Set up"
   ]
  },
  {
   "cell_type": "code",
   "execution_count": 4,
   "id": "bb1fede7",
   "metadata": {},
   "outputs": [],
   "source": [
    "df = pd.read_csv(r'/mnt/d/Kaggle/Telecom_Churn_Prediction/Cleaned/df_cleaned')\n",
    "\n",
    "random_seed = 34"
   ]
  },
  {
   "cell_type": "code",
   "execution_count": 5,
   "id": "07f759c3",
   "metadata": {},
   "outputs": [],
   "source": [
    "X = df.drop(['Churn', 'customerID'], axis = 1)\n",
    "y = df['Churn']"
   ]
  },
  {
   "cell_type": "code",
   "execution_count": 6,
   "id": "32605a02",
   "metadata": {},
   "outputs": [
    {
     "data": {
      "text/plain": [
       "array(['No', 'Yes'], dtype=object)"
      ]
     },
     "execution_count": 6,
     "metadata": {},
     "output_type": "execute_result"
    },
    {
     "data": {
      "text/plain": [
       "array([0, 0, 1, ..., 0, 1, 0])"
      ]
     },
     "execution_count": 6,
     "metadata": {},
     "output_type": "execute_result"
    }
   ],
   "source": [
    "# y\n",
    "\n",
    "y_fitted = LabelEncoder().fit(y)\n",
    "\n",
    "y_labeled = y_fitted.transform(y)\n",
    "\n",
    "y_fitted.classes_\n",
    "\n",
    "y_labeled\n",
    "\n",
    "# 0 == 'No'"
   ]
  },
  {
   "cell_type": "code",
   "execution_count": 7,
   "id": "96ea34d8",
   "metadata": {},
   "outputs": [
    {
     "data": {
      "text/plain": [
       "SeniorCitizen         int64\n",
       "tenure                int64\n",
       "TotalCharges        float64\n",
       "MonthlyCharges      float64\n",
       "PaymentMethod        object\n",
       "PaperlessBilling     object\n",
       "Contract             object\n",
       "StreamingMovies      object\n",
       "StreamingTV          object\n",
       "TechSupport          object\n",
       "gender               object\n",
       "OnlineSecurity       object\n",
       "InternetService      object\n",
       "MultipleLines        object\n",
       "PhoneService         object\n",
       "Dependents           object\n",
       "Partner              object\n",
       "DeviceProtection     object\n",
       "OnlineBackup         object\n",
       "dtype: object"
      ]
     },
     "execution_count": 7,
     "metadata": {},
     "output_type": "execute_result"
    }
   ],
   "source": [
    "X.dtypes.sort_values()"
   ]
  },
  {
   "cell_type": "code",
   "execution_count": 8,
   "id": "85cbdabe",
   "metadata": {},
   "outputs": [
    {
     "data": {
      "text/plain": [
       "gender                 2\n",
       "SeniorCitizen          2\n",
       "Partner                2\n",
       "Dependents             2\n",
       "PaperlessBilling       2\n",
       "PhoneService           2\n",
       "Contract               3\n",
       "StreamingMovies        3\n",
       "StreamingTV            3\n",
       "TechSupport            3\n",
       "OnlineBackup           3\n",
       "OnlineSecurity         3\n",
       "InternetService        3\n",
       "MultipleLines          3\n",
       "DeviceProtection       3\n",
       "PaymentMethod          4\n",
       "tenure                73\n",
       "MonthlyCharges      1585\n",
       "TotalCharges        6534\n",
       "dtype: int64"
      ]
     },
     "execution_count": 8,
     "metadata": {},
     "output_type": "execute_result"
    }
   ],
   "source": [
    "X.nunique().sort_values()"
   ]
  },
  {
   "cell_type": "markdown",
   "id": "b50827e5",
   "metadata": {},
   "source": [
    "<h6>Pipelines"
   ]
  },
  {
   "cell_type": "code",
   "execution_count": 9,
   "id": "c8484844",
   "metadata": {},
   "outputs": [],
   "source": [
    "ct = ColumnTransformer([\n",
    "       (\"one_hot_encoder\", \n",
    "       OneHotEncoder(handle_unknown='ignore', drop='first'), \n",
    "       X.select_dtypes(include='object').columns)], \n",
    "     remainder='passthrough')\n",
    "\n",
    "X_trans = ct.fit_transform(X) "
   ]
  },
  {
   "cell_type": "code",
   "execution_count": 10,
   "id": "2fb5082a",
   "metadata": {},
   "outputs": [
    {
     "data": {
      "text/plain": [
       "(7043, 30)"
      ]
     },
     "execution_count": 10,
     "metadata": {},
     "output_type": "execute_result"
    }
   ],
   "source": [
    "X_trans.shape"
   ]
  },
  {
   "cell_type": "markdown",
   "id": "2a845d8e",
   "metadata": {},
   "source": [
    "<h6>Ad Hoc Cleanings"
   ]
  },
  {
   "cell_type": "markdown",
   "id": "4522f421",
   "metadata": {},
   "source": [
    "<h3>Modeling"
   ]
  },
  {
   "cell_type": "markdown",
   "id": "48e4f57f",
   "metadata": {},
   "source": [
    "<h6>Dummy"
   ]
  },
  {
   "cell_type": "code",
   "execution_count": 11,
   "id": "e811efd1",
   "metadata": {},
   "outputs": [],
   "source": [
    "dummy_clf = DummyClassifier(strategy='constant', constant=0)"
   ]
  },
  {
   "cell_type": "code",
   "execution_count": 12,
   "id": "ea17601f",
   "metadata": {},
   "outputs": [
    {
     "name": "stdout",
     "output_type": "stream",
     "text": [
      "Fitting 5 folds for each of 1 candidates, totalling 5 fits\n"
     ]
    }
   ],
   "source": [
    "# Grid searches dummy_pipeline\n",
    "\n",
    "dummy_pipeline_params = [dict()]\n",
    "\n",
    "    \n",
    "dummy_pipeline_gs = GridSearchCV(\n",
    "                               dummy_clf, \n",
    "                               dummy_pipeline_params, \n",
    "                               cv=5, \n",
    "                               scoring='accuracy',\n",
    "                               return_train_score=False,\n",
    "                               refit='accuracy',\n",
    "                               verbose=5,\n",
    "                               n_jobs = -1)\n",
    "\n",
    "dummy_pipeline_gs.fit(X_trans, y_labeled);"
   ]
  },
  {
   "cell_type": "code",
   "execution_count": 13,
   "id": "796baba2",
   "metadata": {},
   "outputs": [
    {
     "data": {
      "text/plain": [
       "{'mean_fit_time': array([0.00165763]),\n",
       " 'std_fit_time': array([0.00010078]),\n",
       " 'mean_score_time': array([0.0004137]),\n",
       " 'std_score_time': array([4.53635817e-05]),\n",
       " 'params': [{}],\n",
       " 'split0_test_score': array([0.73456352]),\n",
       " 'split1_test_score': array([0.73456352]),\n",
       " 'split2_test_score': array([0.73456352]),\n",
       " 'split3_test_score': array([0.73508523]),\n",
       " 'split4_test_score': array([0.734375]),\n",
       " 'mean_test_score': array([0.73463016]),\n",
       " 'std_test_score': array([0.00023896]),\n",
       " 'rank_test_score': array([1], dtype=int32)}"
      ]
     },
     "execution_count": 13,
     "metadata": {},
     "output_type": "execute_result"
    }
   ],
   "source": [
    "dummy_pipeline_gs.cv_results_"
   ]
  }
 ],
 "metadata": {
  "kernelspec": {
   "display_name": "Python 3 (ipykernel)",
   "language": "python",
   "name": "python3"
  },
  "language_info": {
   "codemirror_mode": {
    "name": "ipython",
    "version": 3
   },
   "file_extension": ".py",
   "mimetype": "text/x-python",
   "name": "python",
   "nbconvert_exporter": "python",
   "pygments_lexer": "ipython3",
   "version": "3.9.12"
  }
 },
 "nbformat": 4,
 "nbformat_minor": 5
}
